{
 "cells": [
  {
   "cell_type": "markdown",
   "metadata": {},
   "source": [
    "## Breadth First Traversal\n",
    "\n",
    "is a grath algorithm that explore all node's neighbors before exploring the next node. It uses a Queue Data Structure to achieve that."
   ]
  },
  {
   "cell_type": "code",
   "execution_count": 3,
   "metadata": {},
   "outputs": [],
   "source": [
    "# Given gragh representated as an adjacency list\n",
    "graph = {\n",
    "    'a': ['b', 'c'],\n",
    "    'b': ['d'],\n",
    "    'c': ['e'],\n",
    "    'd': ['f'],\n",
    "    'e': [],\n",
    "    'f': []\n",
    "}"
   ]
  },
  {
   "cell_type": "code",
   "execution_count": 4,
   "metadata": {},
   "outputs": [
    {
     "name": "stdout",
     "output_type": "stream",
     "text": [
      "a\n",
      "b\n",
      "c\n",
      "d\n",
      "e\n",
      "f\n"
     ]
    }
   ],
   "source": [
    "# Breadth First Traversal Algorithm\n",
    "def breadthFirstTraversal(graph, source):\n",
    "    queue = [source]\n",
    "    while(len(queue) > 0):\n",
    "        current = queue.pop(0) # remove from the begining\n",
    "        print(current)\n",
    "        for neighbor in graph[current]:\n",
    "            queue.append(neighbor) # add at the end\n",
    "\n",
    "# Callit\n",
    "breadthFirstTraversal(graph, 'a')"
   ]
  }
 ],
 "metadata": {
  "kernelspec": {
   "display_name": "Python 3",
   "language": "python",
   "name": "python3"
  },
  "language_info": {
   "codemirror_mode": {
    "name": "ipython",
    "version": 3
   },
   "file_extension": ".py",
   "mimetype": "text/x-python",
   "name": "python",
   "nbconvert_exporter": "python",
   "pygments_lexer": "ipython3",
   "version": "3.10.9"
  }
 },
 "nbformat": 4,
 "nbformat_minor": 2
}
