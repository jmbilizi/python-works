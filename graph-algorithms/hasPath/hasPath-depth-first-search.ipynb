{
 "cells": [
  {
   "cell_type": "code",
   "execution_count": 26,
   "metadata": {},
   "outputs": [],
   "source": [
    "# Adjacency list representing a graph \n",
    "graph = {\n",
    "    'f': ['g', 'i'],\n",
    "    'g': ['h'],\n",
    "    'h': [],\n",
    "    'i': ['g', 'k'],\n",
    "    'j': ['i'],\n",
    "    'k': []\n",
    "}"
   ]
  },
  {
   "cell_type": "code",
   "execution_count": 27,
   "metadata": {},
   "outputs": [
    {
     "data": {
      "text/plain": [
       "True"
      ]
     },
     "execution_count": 27,
     "metadata": {},
     "output_type": "execute_result"
    }
   ],
   "source": [
    "# hasPath with depth first search\n",
    "\n",
    "def hasPathDepthFirstSearch(graph, src, dist):\n",
    "    stack = [src]\n",
    "    while(len(stack) > 0):\n",
    "        current = stack.pop()\n",
    "        if current == dist :\n",
    "            return True\n",
    "        for neighbor in graph[current]:\n",
    "            stack.append(neighbor)\n",
    "    \n",
    "    return False\n",
    "\n",
    "# Let try it\n",
    "hasPathDepthFirstSearch(graph, 'g', 'h')"
   ]
  },
  {
   "cell_type": "code",
   "execution_count": 28,
   "metadata": {},
   "outputs": [
    {
     "data": {
      "text/plain": [
       "False"
      ]
     },
     "execution_count": 28,
     "metadata": {},
     "output_type": "execute_result"
    }
   ],
   "source": [
    "# hasPath recursively\n",
    "def hasPathRecursively(graph, src, dist):\n",
    "    if src == dist :\n",
    "        return True\n",
    "    for neighbor in graph[src]:\n",
    "        if hasPathRecursively(graph, neighbor, dist) == True :\n",
    "            return True\n",
    "\n",
    "    return False\n",
    "\n",
    "# Let run it\n",
    "hasPathRecursively(graph, 'g', 'j')"
   ]
  },
  {
   "cell_type": "code",
   "execution_count": null,
   "metadata": {},
   "outputs": [],
   "source": []
  }
 ],
 "metadata": {
  "kernelspec": {
   "display_name": "Python 3",
   "language": "python",
   "name": "python3"
  },
  "language_info": {
   "codemirror_mode": {
    "name": "ipython",
    "version": 3
   },
   "file_extension": ".py",
   "mimetype": "text/x-python",
   "name": "python",
   "nbconvert_exporter": "python",
   "pygments_lexer": "ipython3",
   "version": "3.10.9"
  }
 },
 "nbformat": 4,
 "nbformat_minor": 2
}
