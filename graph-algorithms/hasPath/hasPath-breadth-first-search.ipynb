{
 "cells": [
  {
   "cell_type": "code",
   "execution_count": 1,
   "metadata": {},
   "outputs": [],
   "source": [
    "# Adjacency list representing a graph\n",
    "graph = {\n",
    "    'f': ['g', 'i'],\n",
    "    'g': ['h'],\n",
    "    'h': [],\n",
    "    'i': ['g', 'k'],\n",
    "    'j': ['i'],\n",
    "    'k': []\n",
    "}"
   ]
  },
  {
   "cell_type": "code",
   "execution_count": 2,
   "metadata": {},
   "outputs": [],
   "source": [
    "# hasPath with depth first search\n",
    "\n",
    "def hasPathBreadthFirstSearch(graph, src, dist):\n",
    "    queue = [src]\n",
    "    while(len(queue) > 0):\n",
    "        current = queue.pop(0)\n",
    "        if current == dist :\n",
    "            return True\n",
    "        for neighbor in graph[current]:\n",
    "            queue.append(neighbor)\n",
    "    \n",
    "    return False"
   ]
  },
  {
   "cell_type": "code",
   "execution_count": 3,
   "metadata": {},
   "outputs": [
    {
     "data": {
      "text/plain": [
       "False"
      ]
     },
     "execution_count": 3,
     "metadata": {},
     "output_type": "execute_result"
    }
   ],
   "source": [
    "# Let try it\n",
    "hasPathBreadthFirstSearch(graph, 'h', 'f')"
   ]
  }
 ],
 "metadata": {
  "kernelspec": {
   "display_name": "Python 3",
   "language": "python",
   "name": "python3"
  },
  "language_info": {
   "codemirror_mode": {
    "name": "ipython",
    "version": 3
   },
   "file_extension": ".py",
   "mimetype": "text/x-python",
   "name": "python",
   "nbconvert_exporter": "python",
   "pygments_lexer": "ipython3",
   "version": "3.11.7"
  }
 },
 "nbformat": 4,
 "nbformat_minor": 2
}
