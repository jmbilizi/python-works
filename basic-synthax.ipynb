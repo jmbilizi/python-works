{
 "cells": [
  {
   "cell_type": "code",
   "execution_count": null,
   "metadata": {},
   "outputs": [],
   "source": [
    "# console.log in py\n",
    "print('Hello World')"
   ]
  },
  {
   "cell_type": "code",
   "execution_count": null,
   "metadata": {},
   "outputs": [],
   "source": [
    "# variable definition in py\n",
    "my_name: str = 'Janvier'\n",
    "print('My name is ' + my_name)"
   ]
  },
  {
   "cell_type": "code",
   "execution_count": null,
   "metadata": {},
   "outputs": [],
   "source": [
    "# function declaration in py\n",
    "def mySumFun(a: int, b: int) -> int:\n",
    "    sum = a + b\n",
    "    return sum\n",
    "\n",
    "print(mySumFun(12, 26))\n",
    "\n",
    "def my_function(*kids):\n",
    "  print(\"The youngest child is \" + kids[2]) #If the number of arguments is unknown, add a * before the parameter name:\n",
    "my_function(\"Emil\", \"Tobias\", \"Linus\")\n",
    "\n",
    "def my_function(child3, child2, child1):\n",
    "  print(\"The youngest child is \" + child3)\n",
    "my_function(child1 = \"Emil\", child2 = \"Tobias\", child3 = \"Linus\") #You can also send arguments with the key = value syntax. This way the order of the arguments does not matter."
   ]
  },
  {
   "cell_type": "code",
   "execution_count": null,
   "metadata": {},
   "outputs": [],
   "source": [
    "# For loop in py\n",
    "fruits = [\"apple\", \"banana\", \"cherry\"]\n",
    "for x in fruits:\n",
    "  print(x)\n",
    "\n",
    "for x in \"banana\":\n",
    "  print(x)\n",
    "\n",
    "for x in fruits:\n",
    "  print(x)\n",
    "  if x == \"banana\":\n",
    "    break\n",
    "  \n",
    "for x in fruits:\n",
    "  if x == \"banana\":\n",
    "    continue\n",
    "  print(x)\n",
    "\n",
    "for x in range(0, 10, 3):\n",
    "    print(x)"
   ]
  },
  {
   "cell_type": "code",
   "execution_count": 1,
   "metadata": {},
   "outputs": [
    {
     "name": "stdout",
     "output_type": "stream",
     "text": [
      "['cherry', 'banana', 'apple']\n"
     ]
    }
   ],
   "source": [
    "# While loop in py\n",
    "fruits = [\"apple\", \"banana\", \"cherry\"]\n",
    "reversedfruits = []\n",
    "\n",
    "while(len(fruits) > 0):\n",
    "    last = fruits.pop()\n",
    "    reversedfruits.append(last)\n",
    "\n",
    "print(reversedfruits)"
   ]
  },
  {
   "cell_type": "code",
   "execution_count": null,
   "metadata": {},
   "outputs": [],
   "source": [
    "# Classes in py\n",
    "class Car:\n",
    "    def __init__(self, model, color, age):\n",
    "        self.model = model\n",
    "        self.color = color\n",
    "        self.age = age\n",
    "    def updateColor(self, newColor):\n",
    "        self.color = newColor\n",
    "    def increaseAge(self):\n",
    "        self.age = self.age + 1\n",
    "\n",
    "car1 = Car('Toyota RV4', 'Black', 11)\n",
    "car2 = Car('Honda CRV', 'Silver', 13)\n",
    "\n",
    "print(car1.model)\n",
    "print(car1.color)\n",
    "print(car1.age)\n",
    "\n",
    "print(car2.model)\n",
    "print(car2.color)\n",
    "print(car2.age)"
   ]
  }
 ],
 "metadata": {
  "kernelspec": {
   "display_name": "Python 3",
   "language": "python",
   "name": "python3"
  },
  "language_info": {
   "codemirror_mode": {
    "name": "ipython",
    "version": 3
   },
   "file_extension": ".py",
   "mimetype": "text/x-python",
   "name": "python",
   "nbconvert_exporter": "python",
   "pygments_lexer": "ipython3",
   "version": "3.10.9"
  }
 },
 "nbformat": 4,
 "nbformat_minor": 2
}
