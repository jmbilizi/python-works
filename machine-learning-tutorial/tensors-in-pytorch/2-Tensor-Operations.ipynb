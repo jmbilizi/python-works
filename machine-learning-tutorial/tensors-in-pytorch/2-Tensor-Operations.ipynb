{
 "cells": [
  {
   "cell_type": "code",
   "execution_count": 7,
   "metadata": {},
   "outputs": [],
   "source": [
    "# Importing torch\n",
    "import torch;"
   ]
  },
  {
   "cell_type": "code",
   "execution_count": 32,
   "metadata": {},
   "outputs": [
    {
     "name": "stdout",
     "output_type": "stream",
     "text": [
      "tensor([1, 2, 3])\n",
      "torch.int64\n"
     ]
    }
   ],
   "source": [
    "# Creating a tensor variable\n",
    "v = torch.tensor([1, 2, 3])\n",
    "print(v)\n",
    "print(v.dtype)"
   ]
  },
  {
   "cell_type": "code",
   "execution_count": 31,
   "metadata": {},
   "outputs": [
    {
     "name": "stdout",
     "output_type": "stream",
     "text": [
      "tensor([1., 2., 3.])\n",
      "torch.float32\n"
     ]
    }
   ],
   "source": [
    "# FloatTensor\n",
    "v = torch.FloatTensor([1, 2, 3])\n",
    "print(v)\n",
    "print(v.dtype)\n"
   ]
  },
  {
   "cell_type": "code",
   "execution_count": 37,
   "metadata": {},
   "outputs": [
    {
     "name": "stdout",
     "output_type": "stream",
     "text": [
      "tensor(1)\n",
      "tensor(5)\n",
      "tensor([5, 7])\n",
      "tensor([5, 7, 9])\n",
      "tensor([1, 3, 5, 7])\n",
      "tensor(9)\n"
     ]
    }
   ],
   "source": [
    "# Accessing tensor value at given index or from range of indexes (its the same as you will access value in a python list)\n",
    "inpair = torch.tensor([1, 3, 5, 7, 9])\n",
    "print(inpair[0])\n",
    "print(inpair[2])\n",
    "print(inpair[2:4])\n",
    "print(inpair[2:])\n",
    "print(inpair[:4])\n",
    "print(inpair[-1])"
   ]
  },
  {
   "cell_type": "code",
   "execution_count": 40,
   "metadata": {},
   "outputs": [
    {
     "name": "stdout",
     "output_type": "stream",
     "text": [
      "torch.Size([6])\n",
      "tensor([[ 2,  4],\n",
      "        [ 6,  8],\n",
      "        [10, 12]])\n",
      "tensor([[ 2,  4,  6],\n",
      "        [ 8, 10, 12]])\n"
     ]
    }
   ],
   "source": [
    "# Tensor build in methods\n",
    "pair = torch.tensor([2, 4, 6, 8, 10, 12])\n",
    "\n",
    "# 1. size() use to get length\n",
    "print(pair.size())\n",
    "\n",
    "# 1. view(nRow, nCol) method. Its the same as reshape method in numpy array\n",
    "print(pair.view(3, 2)) \n",
    "print(pair.view(2, -1)) # -1 will authomatically set the number of columns based on the size or length of the tensor array"
   ]
  },
  {
   "cell_type": "code",
   "execution_count": 43,
   "metadata": {},
   "outputs": [
    {
     "name": "stdout",
     "output_type": "stream",
     "text": [
      "[1 2 3 4 5 6]\n",
      "tensor([1, 2, 3, 4, 5, 6], dtype=torch.int32)\n"
     ]
    }
   ],
   "source": [
    "# Converting numpy array into tensor\n",
    "import numpy as np;\n",
    "\n",
    "npArray = np.array([1, 2, 3, 4, 5, 6])\n",
    "print(npArray)\n",
    "\n",
    "tensor_cnv = torch.from_numpy(npArray)\n",
    "print(tensor_cnv)"
   ]
  },
  {
   "cell_type": "code",
   "execution_count": 50,
   "metadata": {},
   "outputs": [
    {
     "name": "stdout",
     "output_type": "stream",
     "text": [
      "tensor([ 2,  4,  6,  8, 10, 12])\n",
      "[ 2  4  6  8 10 12]\n"
     ]
    }
   ],
   "source": [
    "# Converting tensor into numpy array\n",
    "tensor_val = torch.tensor([2, 4, 6, 8, 10, 12])\n",
    "print(tensor_val)\n",
    "\n",
    "numpy_cnv = tensor_val.numpy()\n",
    "print(numpy_cnv)"
   ]
  }
 ],
 "metadata": {
  "kernelspec": {
   "display_name": ".venv",
   "language": "python",
   "name": "python3"
  },
  "language_info": {
   "codemirror_mode": {
    "name": "ipython",
    "version": 3
   },
   "file_extension": ".py",
   "mimetype": "text/x-python",
   "name": "python",
   "nbconvert_exporter": "python",
   "pygments_lexer": "ipython3",
   "version": "3.11.7"
  }
 },
 "nbformat": 4,
 "nbformat_minor": 2
}
