{
 "cells": [
  {
   "cell_type": "code",
   "execution_count": 22,
   "metadata": {},
   "outputs": [],
   "source": [
    "# Importing\n",
    "import torch;"
   ]
  },
  {
   "cell_type": "code",
   "execution_count": 23,
   "metadata": {},
   "outputs": [
    {
     "name": "stdout",
     "output_type": "stream",
     "text": [
      "tensor([ 0,  1,  2,  3,  4,  5,  6,  7,  8,  9, 10, 11, 12, 13, 14, 15, 16, 17])\n",
      "1\n"
     ]
    }
   ],
   "source": [
    "# Lets start by making a 1D tensor using arange method\n",
    "one_d = torch.arange(0, 18)\n",
    "print(one_d)\n",
    "print(one_d.dim()) "
   ]
  },
  {
   "cell_type": "code",
   "execution_count": 24,
   "metadata": {},
   "outputs": [
    {
     "name": "stdout",
     "output_type": "stream",
     "text": [
      "tensor([[[ 0,  1,  2],\n",
      "         [ 3,  4,  5]],\n",
      "\n",
      "        [[ 6,  7,  8],\n",
      "         [ 9, 10, 11]],\n",
      "\n",
      "        [[12, 13, 14],\n",
      "         [15, 16, 17]]])\n",
      "3\n"
     ]
    }
   ],
   "source": [
    "three_d = one_d.view(3, 2, -1)\n",
    "print(three_d)\n",
    "print(three_d.dim())"
   ]
  },
  {
   "cell_type": "code",
   "execution_count": 25,
   "metadata": {},
   "outputs": [
    {
     "name": "stdout",
     "output_type": "stream",
     "text": [
      "tensor([[ 6,  7,  8],\n",
      "        [ 9, 10, 11]])\n",
      "tensor([3, 4, 5])\n",
      "tensor(16)\n"
     ]
    }
   ],
   "source": [
    "# Indexes in 2D or Matrix tensor by passing in the positions\n",
    "print(three_d[1])\n",
    "print(three_d[0, 1])\n",
    "print(three_d[2, 1, 1])"
   ]
  },
  {
   "cell_type": "code",
   "execution_count": 37,
   "metadata": {},
   "outputs": [
    {
     "name": "stdout",
     "output_type": "stream",
     "text": [
      "tensor([[ 6,  7,  8],\n",
      "        [ 9, 10, 11]])\n",
      "tensor([ 9, 10, 11])\n",
      "tensor([ 9, 10, 11])\n"
     ]
    }
   ],
   "source": [
    "# Slicing 3D Tensor\n",
    "print(three_d[1, 0:2, 0:3])\n",
    "\n",
    "print(three_d[1, 1, 0:3])\n",
    "print(three_d[1][1][0:3])"
   ]
  }
 ],
 "metadata": {
  "kernelspec": {
   "display_name": ".venv",
   "language": "python",
   "name": "python3"
  },
  "language_info": {
   "codemirror_mode": {
    "name": "ipython",
    "version": 3
   },
   "file_extension": ".py",
   "mimetype": "text/x-python",
   "name": "python",
   "nbconvert_exporter": "python",
   "pygments_lexer": "ipython3",
   "version": "3.11.7"
  }
 },
 "nbformat": 4,
 "nbformat_minor": 2
}
