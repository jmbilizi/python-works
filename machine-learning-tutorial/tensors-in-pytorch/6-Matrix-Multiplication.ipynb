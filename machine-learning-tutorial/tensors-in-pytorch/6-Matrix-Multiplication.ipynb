{
 "cells": [
  {
   "cell_type": "markdown",
   "metadata": {},
   "source": [
    "## Matrix Multiplication\n",
    "\n",
    "To multiply two matrix A and B, the number of Columns of Matrix A has to be equal to the number of Rows of matrix B"
   ]
  },
  {
   "cell_type": "code",
   "execution_count": 4,
   "metadata": {},
   "outputs": [],
   "source": [
    "# importing torch\n",
    "import torch"
   ]
  },
  {
   "cell_type": "markdown",
   "metadata": {},
   "source": [
    "### Matrix multiplication using matmul torch method"
   ]
  },
  {
   "cell_type": "code",
   "execution_count": 28,
   "metadata": {},
   "outputs": [
    {
     "name": "stdout",
     "output_type": "stream",
     "text": [
      "tensor([[0, 3, 5],\n",
      "        [5, 5, 2]])\n",
      "tensor([[ 3,  4],\n",
      "        [ 3, -2],\n",
      "        [ 4, -2]])\n",
      "tensor([[ 29, -16],\n",
      "        [ 38,   6]])\n"
     ]
    }
   ],
   "source": [
    "# Example 1\n",
    "matrixA = torch.tensor([0, 3, 5, 5, 5, 2]).view(2, 3)\n",
    "matrixB = torch.tensor([3, 4, 3, -2, 4, -2]).view(3, 2)\n",
    "print(matrixA)\n",
    "print(matrixB)\n",
    "print(torch.matmul(matrixA, matrixB))"
   ]
  },
  {
   "cell_type": "code",
   "execution_count": 29,
   "metadata": {},
   "outputs": [
    {
     "name": "stdout",
     "output_type": "stream",
     "text": [
      "tensor([[3, 1, 4]])\n",
      "tensor([[4, 3],\n",
      "        [2, 5],\n",
      "        [6, 8]])\n",
      "tensor([[38, 46]])\n"
     ]
    }
   ],
   "source": [
    "# Example 2\n",
    "matrixA = torch.tensor([3, 1, 4]).view(1, 3)\n",
    "matrixB = torch.tensor([4, 3, 2, 5, 6, 8]).view(3, 2)\n",
    "print(matrixA)\n",
    "print(matrixB)\n",
    "print(torch.matmul(matrixA, matrixB))"
   ]
  },
  {
   "cell_type": "markdown",
   "metadata": {},
   "source": [
    "### Matrix multiplication using @ symbol"
   ]
  },
  {
   "cell_type": "code",
   "execution_count": 30,
   "metadata": {},
   "outputs": [
    {
     "name": "stdout",
     "output_type": "stream",
     "text": [
      "tensor([[0, 3, 5],\n",
      "        [5, 5, 2]])\n",
      "tensor([[ 3,  4],\n",
      "        [ 3, -2],\n",
      "        [ 4, -2]])\n",
      "tensor([[ 29, -16],\n",
      "        [ 38,   6]])\n"
     ]
    }
   ],
   "source": [
    "# Example 1\n",
    "matrixA = torch.tensor([0, 3, 5, 5, 5, 2]).view(2, 3)\n",
    "matrixB = torch.tensor([3, 4, 3, -2, 4, -2]).view(3, 2)\n",
    "print(matrixA)\n",
    "print(matrixB)\n",
    "print(matrixA @ matrixB)"
   ]
  },
  {
   "cell_type": "code",
   "execution_count": 31,
   "metadata": {},
   "outputs": [
    {
     "name": "stdout",
     "output_type": "stream",
     "text": [
      "tensor([[3, 1, 4]])\n",
      "tensor([[4, 3],\n",
      "        [2, 5],\n",
      "        [6, 8]])\n",
      "tensor([[38, 46]])\n"
     ]
    }
   ],
   "source": [
    "# Example 2\n",
    "matrixA = torch.tensor([3, 1, 4]).view(1, 3)\n",
    "matrixB = torch.tensor([4, 3, 2, 5, 6, 8]).view(3, 2)\n",
    "print(matrixA)\n",
    "print(matrixB)\n",
    "print(matrixA @ matrixB)"
   ]
  }
 ],
 "metadata": {
  "kernelspec": {
   "display_name": ".venv",
   "language": "python",
   "name": "python3"
  },
  "language_info": {
   "codemirror_mode": {
    "name": "ipython",
    "version": 3
   },
   "file_extension": ".py",
   "mimetype": "text/x-python",
   "name": "python",
   "nbconvert_exporter": "python",
   "pygments_lexer": "ipython3",
   "version": "3.11.7"
  }
 },
 "nbformat": 4,
 "nbformat_minor": 2
}
