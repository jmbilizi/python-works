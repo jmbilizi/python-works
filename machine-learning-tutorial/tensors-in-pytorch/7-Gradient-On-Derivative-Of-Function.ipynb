{
 "cells": [
  {
   "cell_type": "markdown",
   "metadata": {},
   "source": [
    "## Gradient with Pytorch"
   ]
  },
  {
   "cell_type": "code",
   "execution_count": 1,
   "metadata": {},
   "outputs": [],
   "source": [
    "# importing torch\n",
    "import torch"
   ]
  },
  {
   "cell_type": "code",
   "execution_count": 3,
   "metadata": {},
   "outputs": [
    {
     "data": {
      "text/plain": [
       "tensor(330.)"
      ]
     },
     "execution_count": 3,
     "metadata": {},
     "output_type": "execute_result"
    }
   ],
   "source": [
    "# Gradient x in pytorch\n",
    "x = torch.tensor(2.0, requires_grad = True)\n",
    "\n",
    "# Function y = F(x)\n",
    "y = 9*x**4 +2*x**3 + 3*x**2 + 6*x + 1\n",
    "\n",
    "# Derivative df(x)/d(x)\n",
    "y.backward()\n",
    "\n",
    "x.grad"
   ]
  },
  {
   "cell_type": "code",
   "execution_count": 5,
   "metadata": {},
   "outputs": [
    {
     "name": "stdout",
     "output_type": "stream",
     "text": [
      "tensor(2.)\n",
      "tensor(12.)\n"
     ]
    }
   ],
   "source": [
    "# Gradient x and z\n",
    "x = torch.tensor(1.0, requires_grad = True)\n",
    "z = torch.tensor(2.0, requires_grad = True)\n",
    "\n",
    "# Function y = F(x, z)\n",
    "y = x**2 + z**3\n",
    "\n",
    "# Derivative df(x)/d(x)\n",
    "y.backward()\n",
    "\n",
    "print(x.grad)\n",
    "\n",
    "print(z.grad)"
   ]
  }
 ],
 "metadata": {
  "kernelspec": {
   "display_name": ".venv",
   "language": "python",
   "name": "python3"
  },
  "language_info": {
   "codemirror_mode": {
    "name": "ipython",
    "version": 3
   },
   "file_extension": ".py",
   "mimetype": "text/x-python",
   "name": "python",
   "nbconvert_exporter": "python",
   "pygments_lexer": "ipython3",
   "version": "3.11.7"
  }
 },
 "nbformat": 4,
 "nbformat_minor": 2
}
