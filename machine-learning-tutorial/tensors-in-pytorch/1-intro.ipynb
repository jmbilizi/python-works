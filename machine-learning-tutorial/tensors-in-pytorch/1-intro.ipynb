{
 "cells": [
  {
   "cell_type": "markdown",
   "metadata": {},
   "source": [
    "## Tensor\n",
    "\n",
    "Pytorch has been imbraced by the deep learning world for it hability to conviniently defined Neural Networks. And Neural Networks themself can be fondamentally structured as Tensors. And given that pytorch is built around tensor, they tend to be a significant boost in performance.\n",
    "\n",
    "Tensor is a generalization of metrices with N dimensionals. Its can be;\n",
    "\n",
    "- 0 dimensional tensor (0D) --> Scalar\n",
    "\n",
    "- 1 dimensional tensor (1D) --> Vector\n",
    "\n",
    "- 2 dimensional tensor (2D) --> Matrix\n",
    "\n",
    "- 3 dimensional tensor (3D) --> Tensor"
   ]
  }
 ],
 "metadata": {
  "kernelspec": {
   "display_name": ".venv",
   "language": "python",
   "name": "python3"
  },
  "language_info": {
   "name": "python",
   "version": "3.11.7"
  }
 },
 "nbformat": 4,
 "nbformat_minor": 2
}
