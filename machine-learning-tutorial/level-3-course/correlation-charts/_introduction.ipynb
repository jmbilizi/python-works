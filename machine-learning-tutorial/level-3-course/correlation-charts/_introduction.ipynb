{
 "cells": [
  {
   "cell_type": "markdown",
   "metadata": {},
   "source": [
    "### Correlation Charts\n",
    "\n",
    "Correlation is the mesure of how two or more variables are related to one another. It can be use to predict. For example, if we know there is correlation between weather and electricity demand. We can use weather forecast to predict future electricity demand. Correlation can be `Linear or Non-linear`, `Positive or Negative`, `Strobg or Weak`. \n",
    "\n",
    "They are multiple type of correlation chart. Here we will look into the following\n",
    "- Scatter Chart\n",
    "- Correlogram\n",
    "- Heat-Map\n",
    "- Hexbin-Map"
   ]
  }
 ],
 "metadata": {
  "language_info": {
   "name": "python"
  }
 },
 "nbformat": 4,
 "nbformat_minor": 2
}
