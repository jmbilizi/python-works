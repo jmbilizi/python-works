{
 "cells": [
  {
   "cell_type": "code",
   "execution_count": 2,
   "metadata": {},
   "outputs": [],
   "source": [
    "import numpy as np;\n",
    "import time;"
   ]
  },
  {
   "cell_type": "code",
   "execution_count": 1,
   "metadata": {},
   "outputs": [
    {
     "name": "stdout",
     "output_type": "stream",
     "text": [
      "[1 2 3 4]\n"
     ]
    }
   ],
   "source": [
    "a = np.array([1, 2, 3, 4])\n",
    "\n",
    "print(a)"
   ]
  },
  {
   "cell_type": "code",
   "execution_count": 46,
   "metadata": {},
   "outputs": [
    {
     "name": "stdout",
     "output_type": "stream",
     "text": [
      "[0.55033392 0.80452145 0.68351518 ... 0.89372797 0.23214264 0.89249106]\n"
     ]
    }
   ],
   "source": [
    "a = np.random.rand(1000000)\n",
    "b = np.random.rand(1000000)\n",
    "print(a)"
   ]
  },
  {
   "cell_type": "markdown",
   "metadata": {},
   "source": [
    "## Vectorized Vesion"
   ]
  },
  {
   "cell_type": "code",
   "execution_count": 47,
   "metadata": {},
   "outputs": [
    {
     "name": "stdout",
     "output_type": "stream",
     "text": [
      "1716075952.9097779\n",
      "1716075952.9128656\n",
      "Vectorized Version took 3.087759017944336 ms\n",
      "C = 249907.79974580684\n"
     ]
    }
   ],
   "source": [
    "tic = time.time()\n",
    "\n",
    "# start here\n",
    "\n",
    "c = np.dot(a, b)\n",
    "\n",
    "# ends here\n",
    "\n",
    "toc = time.time()\n",
    "\n",
    "print(tic)\n",
    "print(toc)\n",
    "print(\"Vectorized Version took \" + str(1000 * (toc - tic)) + \" ms\")\n",
    "print(\"C = \" + str(c))"
   ]
  },
  {
   "cell_type": "markdown",
   "metadata": {},
   "source": [
    "## None Vectorized Version"
   ]
  },
  {
   "cell_type": "code",
   "execution_count": 37,
   "metadata": {},
   "outputs": [
    {
     "name": "stdout",
     "output_type": "stream",
     "text": [
      "1716067929.7344468\n",
      "1716067929.9801106\n",
      "Vectorized Version took 245.66388130187988 ms\n",
      "C = 249976.65489962598\n"
     ]
    }
   ],
   "source": [
    "tic = time.time()\n",
    "\n",
    "# start here\n",
    "c = 0\n",
    "for i in range(len(a)):\n",
    "    c += a[i]*b[i]\n",
    "# ends here\n",
    "\n",
    "toc = time.time()\n",
    "\n",
    "print(tic)\n",
    "print(toc)\n",
    "print(\"Vectorized Version took \" + str(1000 * (toc - tic)) + \" ms\")\n",
    "print(\"C = \" + str(c))"
   ]
  },
  {
   "cell_type": "code",
   "execution_count": 48,
   "metadata": {},
   "outputs": [
    {
     "data": {
      "text/plain": [
       "(2, 3)"
      ]
     },
     "execution_count": 48,
     "metadata": {},
     "output_type": "execute_result"
    }
   ],
   "source": [
    "a=np.random.randn(2,3)\n",
    "b=np.random.randn(2,1)\n",
    "c=a+b\n",
    "c.shape"
   ]
  },
  {
   "cell_type": "code",
   "execution_count": 60,
   "metadata": {},
   "outputs": [
    {
     "data": {
      "text/plain": [
       "(3, 3)"
      ]
     },
     "execution_count": 60,
     "metadata": {},
     "output_type": "execute_result"
    }
   ],
   "source": [
    "a=np.random.randn(3,3)\n",
    "b=np.random.randn(3,1)\n",
    "c=a*b\n",
    "c.shape"
   ]
  },
  {
   "cell_type": "code",
   "execution_count": 8,
   "metadata": {},
   "outputs": [
    {
     "name": "stdout",
     "output_type": "stream",
     "text": [
      "[[ 5  5]\n",
      " [ 5 10]]\n"
     ]
    }
   ],
   "source": [
    "a = np.array([[2,1],[1,3]])\n",
    "c = np.dot(a,a)\n",
    "print(c)"
   ]
  },
  {
   "cell_type": "code",
   "execution_count": 61,
   "metadata": {},
   "outputs": [
    {
     "data": {
      "text/plain": [
       "(3, 3)"
      ]
     },
     "execution_count": 61,
     "metadata": {},
     "output_type": "execute_result"
    }
   ],
   "source": [
    "a= np.random.randn(3,3)\n",
    "b= np.random.randn(3,3)\n",
    "c = a**2 + b.T**2\n",
    "a.shape"
   ]
  },
  {
   "cell_type": "code",
   "execution_count": 57,
   "metadata": {},
   "outputs": [
    {
     "data": {
      "text/plain": [
       "(2, 2, 1)"
      ]
     },
     "execution_count": 57,
     "metadata": {},
     "output_type": "execute_result"
    }
   ],
   "source": [
    "x = np.array([[[1], [2]], [[3], [4]]])\n",
    "x.shape"
   ]
  },
  {
   "cell_type": "code",
   "execution_count": 12,
   "metadata": {},
   "outputs": [
    {
     "data": {
      "text/plain": [
       "array([[ 1.392411  , -0.2011453 ,  0.04545916],\n",
       "       [ 1.84376018,  2.37348568,  0.19152552],\n",
       "       [-1.36605937, -2.05084181, -1.5537767 ],\n",
       "       [-2.44092544, -0.57087484, -1.18834381]])"
      ]
     },
     "execution_count": 12,
     "metadata": {},
     "output_type": "execute_result"
    }
   ],
   "source": [
    "a= np.random.randn(4,3)\n",
    "b= np.random.randn(4,1)\n",
    "\n",
    "c = a + b\n",
    "c\n"
   ]
  },
  {
   "cell_type": "code",
   "execution_count": 5,
   "metadata": {},
   "outputs": [
    {
     "ename": "ValueError",
     "evalue": "operands could not be broadcast together with shapes (3,3) (2,1) ",
     "output_type": "error",
     "traceback": [
      "\u001b[1;31m---------------------------------------------------------------------------\u001b[0m",
      "\u001b[1;31mValueError\u001b[0m                                Traceback (most recent call last)",
      "Cell \u001b[1;32mIn[5], line 3\u001b[0m\n\u001b[0;32m      1\u001b[0m a\u001b[38;5;241m=\u001b[39m np\u001b[38;5;241m.\u001b[39mrandom\u001b[38;5;241m.\u001b[39mrandn(\u001b[38;5;241m3\u001b[39m,\u001b[38;5;241m3\u001b[39m)\n\u001b[0;32m      2\u001b[0m b\u001b[38;5;241m=\u001b[39m np\u001b[38;5;241m.\u001b[39mrandom\u001b[38;5;241m.\u001b[39mrandn(\u001b[38;5;241m2\u001b[39m,\u001b[38;5;241m1\u001b[39m)\n\u001b[1;32m----> 3\u001b[0m c \u001b[38;5;241m=\u001b[39m \u001b[43ma\u001b[49m\u001b[43m \u001b[49m\u001b[38;5;241;43m+\u001b[39;49m\u001b[43m \u001b[49m\u001b[43mb\u001b[49m\n\u001b[0;32m      4\u001b[0m a\u001b[38;5;241m.\u001b[39mshape\n",
      "\u001b[1;31mValueError\u001b[0m: operands could not be broadcast together with shapes (3,3) (2,1) "
     ]
    }
   ],
   "source": [
    "a= np.random.randn(3,3)\n",
    "b= np.random.randn(2,1)\n",
    "c = a + b\n",
    "a.shape"
   ]
  },
  {
   "cell_type": "code",
   "execution_count": 68,
   "metadata": {},
   "outputs": [
    {
     "data": {
      "text/plain": [
       "array([[[-1.43026474, -0.04312762],\n",
       "        [-0.63590548, -0.13010073]],\n",
       "\n",
       "       [[-0.49504989,  1.10279202],\n",
       "        [-0.20472335,  0.13021121]]])"
      ]
     },
     "execution_count": 68,
     "metadata": {},
     "output_type": "execute_result"
    }
   ],
   "source": [
    "x = np.random.randn(8, 1)\n",
    "x.reshape(2, 2, 2)\n"
   ]
  },
  {
   "cell_type": "code",
   "execution_count": 74,
   "metadata": {},
   "outputs": [
    {
     "data": {
      "text/plain": [
       "array([[-0.00857439,  0.68037799,  1.2302979 ],\n",
       "       [-1.40990103, -0.46290847, -1.00832734],\n",
       "       [ 2.62157014,  3.37622065,  2.36022218],\n",
       "       [ 0.71495718,  1.73068449, -0.08973732]])"
      ]
     },
     "execution_count": 74,
     "metadata": {},
     "output_type": "execute_result"
    }
   ],
   "source": [
    "a= np.random.randn(3,4)\n",
    "b= np.random.randn(4,1)\n",
    "c = a.T + b\n",
    "# for i in range(3):\n",
    "\n",
    "#  for j in range(4):\n",
    "\n",
    "#     c[i][j] = a[i][j] + b[j]\n",
    "c"
   ]
  },
  {
   "cell_type": "code",
   "execution_count": 13,
   "metadata": {},
   "outputs": [
    {
     "data": {
      "text/plain": [
       "array([[3, 3],\n",
       "       [4, 2]])"
      ]
     },
     "execution_count": 13,
     "metadata": {},
     "output_type": "execute_result"
    }
   ],
   "source": [
    "a = np.array([[1, 1], [1, -1]])\n",
    "b=np.array([[2],[3]])\n",
    "c=a+b\n",
    "c"
   ]
  }
 ],
 "metadata": {
  "kernelspec": {
   "display_name": ".venv",
   "language": "python",
   "name": "python3"
  },
  "language_info": {
   "codemirror_mode": {
    "name": "ipython",
    "version": 3
   },
   "file_extension": ".py",
   "mimetype": "text/x-python",
   "name": "python",
   "nbconvert_exporter": "python",
   "pygments_lexer": "ipython3",
   "version": "3.11.7"
  }
 },
 "nbformat": 4,
 "nbformat_minor": 2
}
