{
 "cells": [
  {
   "cell_type": "code",
   "execution_count": 1,
   "metadata": {},
   "outputs": [],
   "source": [
    "import numpy as np;"
   ]
  },
  {
   "cell_type": "code",
   "execution_count": 2,
   "metadata": {},
   "outputs": [],
   "source": [
    "# Create a numpy array\n",
    "myNumpyArray = np.array([[7, 2, 3, 4, 1], [12, 23, 34, 45, 56]])"
   ]
  },
  {
   "cell_type": "code",
   "execution_count": 3,
   "metadata": {},
   "outputs": [
    {
     "data": {
      "text/plain": [
       "array([[ 0.6569866 ,  0.90929743,  0.14112001, -0.7568025 ,  0.84147098],\n",
       "       [-0.53657292, -0.8462204 ,  0.52908269,  0.85090352, -0.521551  ]])"
      ]
     },
     "execution_count": 3,
     "metadata": {},
     "output_type": "execute_result"
    }
   ],
   "source": [
    "# To apply sinus to every element of my numpy array\n",
    "myNumpyArray = np.array([[7, 2, 3, 4, 1], [12, 23, 34, 45, 56]])\n",
    "np.sin(myNumpyArray)"
   ]
  },
  {
   "cell_type": "code",
   "execution_count": 4,
   "metadata": {},
   "outputs": [
    {
     "data": {
      "text/plain": [
       "187"
      ]
     },
     "execution_count": 4,
     "metadata": {},
     "output_type": "execute_result"
    }
   ],
   "source": [
    "# To get sum of all the element of my numpy array\n",
    "myNumpyArray = np.array([[7, 2, 3, 4, 1], [12, 23, 34, 45, 56]])\n",
    "np.sum(myNumpyArray)"
   ]
  },
  {
   "cell_type": "code",
   "execution_count": 5,
   "metadata": {},
   "outputs": [
    {
     "data": {
      "text/plain": [
       "-322157056"
      ]
     },
     "execution_count": 5,
     "metadata": {},
     "output_type": "execute_result"
    }
   ],
   "source": [
    "# To get product of all the element of my numpy array\n",
    "myNumpyArray = np.array([[7, 2, 3, 4, 1], [12, 23, 34, 45, 56]])\n",
    "np.prod(myNumpyArray)"
   ]
  },
  {
   "cell_type": "code",
   "execution_count": 6,
   "metadata": {},
   "outputs": [
    {
     "data": {
      "text/plain": [
       "18.7"
      ]
     },
     "execution_count": 6,
     "metadata": {},
     "output_type": "execute_result"
    }
   ],
   "source": [
    "# To get mean of all the element of my numpy array\n",
    "myNumpyArray = np.array([[7, 2, 3, 4, 1], [12, 23, 34, 45, 56]])\n",
    "np.mean(myNumpyArray)"
   ]
  },
  {
   "cell_type": "code",
   "execution_count": 7,
   "metadata": {},
   "outputs": [
    {
     "data": {
      "text/plain": [
       "357.2099999999999"
      ]
     },
     "execution_count": 7,
     "metadata": {},
     "output_type": "execute_result"
    }
   ],
   "source": [
    "# To get variance of all the element of my numpy array\n",
    "myNumpyArray = np.array([[7, 2, 3, 4, 1], [12, 23, 34, 45, 56]])\n",
    "np.var(myNumpyArray)"
   ]
  },
  {
   "cell_type": "code",
   "execution_count": 8,
   "metadata": {},
   "outputs": [
    {
     "data": {
      "text/plain": [
       "18.9"
      ]
     },
     "execution_count": 8,
     "metadata": {},
     "output_type": "execute_result"
    }
   ],
   "source": [
    "# To get the standard Deviation of all the element of my numpy array\n",
    "myNumpyArray = np.array([[7, 2, 3, 4, 1], [12, 23, 34, 45, 56]])\n",
    "np.std(myNumpyArray)"
   ]
  },
  {
   "cell_type": "code",
   "execution_count": 9,
   "metadata": {},
   "outputs": [
    {
     "data": {
      "text/plain": [
       "1"
      ]
     },
     "execution_count": 9,
     "metadata": {},
     "output_type": "execute_result"
    }
   ],
   "source": [
    "# To get the minumum value in my numpy array\n",
    "myNumpyArray = np.array([[7, 2, 3, 4, 1], [12, 23, 34, 45, 56]])\n",
    "np.min(myNumpyArray)"
   ]
  },
  {
   "cell_type": "code",
   "execution_count": 10,
   "metadata": {},
   "outputs": [
    {
     "data": {
      "text/plain": [
       "56"
      ]
     },
     "execution_count": 10,
     "metadata": {},
     "output_type": "execute_result"
    }
   ],
   "source": [
    "# To get the maximum value in my numpy array\n",
    "myNumpyArray = np.array([[7, 2, 3, 4, 1], [12, 23, 34, 45, 56]])\n",
    "np.max(myNumpyArray)"
   ]
  },
  {
   "cell_type": "code",
   "execution_count": 11,
   "metadata": {},
   "outputs": [
    {
     "data": {
      "text/plain": [
       "4"
      ]
     },
     "execution_count": 11,
     "metadata": {},
     "output_type": "execute_result"
    }
   ],
   "source": [
    "# To get the ArgMin value in my numpy array ---> ArgMin gives you the index value of the minumum value\n",
    "myNumpyArray = np.array([[7, 2, 3, 4, 1], [12, 23, 34, 45, 56]])\n",
    "np.argmin(myNumpyArray)"
   ]
  },
  {
   "cell_type": "code",
   "execution_count": 12,
   "metadata": {},
   "outputs": [
    {
     "data": {
      "text/plain": [
       "9"
      ]
     },
     "execution_count": 12,
     "metadata": {},
     "output_type": "execute_result"
    }
   ],
   "source": [
    "# To get the ArgMax value in my numpy array ---> ---> ArgMax gives you the index value of the maximum value\n",
    "myNumpyArray = np.array([[7, 2, 3, 4, 1], [12, 23, 34, 45, 56]])\n",
    "np.argmax(myNumpyArray)"
   ]
  },
  {
   "cell_type": "markdown",
   "metadata": {},
   "source": [
    "#### Using mathematical operation"
   ]
  },
  {
   "cell_type": "code",
   "execution_count": 13,
   "metadata": {},
   "outputs": [
    {
     "data": {
      "text/plain": [
       "array([[ True, False, False, False, False],\n",
       "       [ True,  True,  True,  True,  True]])"
      ]
     },
     "execution_count": 13,
     "metadata": {},
     "output_type": "execute_result"
    }
   ],
   "source": [
    "# To make a copy of your numpy array based on greater than five condition\n",
    "myNumpyArray = np.array([[7, 2, 3, 4, 1], [12, 23, 34, 45, 56]])\n",
    "greaterThanFive = myNumpyArray > 5\n",
    "greaterThanFive"
   ]
  },
  {
   "cell_type": "code",
   "execution_count": 14,
   "metadata": {},
   "outputs": [
    {
     "data": {
      "text/plain": [
       "array([[False,  True,  True,  True,  True],\n",
       "       [False, False, False, False, False]])"
      ]
     },
     "execution_count": 14,
     "metadata": {},
     "output_type": "execute_result"
    }
   ],
   "source": [
    "# To make a copy of your numpy array based on less than five condition\n",
    "myNumpyArray = np.array([[7, 2, 3, 4, 1], [12, 23, 34, 45, 56]])\n",
    "lessThanFive = myNumpyArray < 5\n",
    "lessThanFive"
   ]
  },
  {
   "cell_type": "code",
   "execution_count": 15,
   "metadata": {},
   "outputs": [
    {
     "data": {
      "text/plain": [
       "array([ 7, 12, 23, 34, 45, 56])"
      ]
     },
     "execution_count": 15,
     "metadata": {},
     "output_type": "execute_result"
    }
   ],
   "source": [
    "# To make a copy of your numpy array based on less than five condition\n",
    "myNumpyArray = np.array([[7, 2, 3, 4, 1], [12, 23, 34, 45, 56]])\n",
    "filtedBasedonCondition = myNumpyArray[myNumpyArray > 5]\n",
    "filtedBasedonCondition"
   ]
  },
  {
   "cell_type": "code",
   "execution_count": 16,
   "metadata": {},
   "outputs": [
    {
     "data": {
      "text/plain": [
       "array([[10,  5,  5, 10,  5],\n",
       "       [10, 10, 10, 10, 10]])"
      ]
     },
     "execution_count": 16,
     "metadata": {},
     "output_type": "execute_result"
    }
   ],
   "source": [
    "# numpy WHERE method ---> use to replace values based on given condition\n",
    "myNumpyArray = np.array([[7, 2, 3, 4, 1], [12, 23, 34, 45, 56]])\n",
    "myMappedNumpyArray = np.where(myNumpyArray < 4, 5, 10)\n",
    "myMappedNumpyArray"
   ]
  },
  {
   "cell_type": "markdown",
   "metadata": {},
   "source": [
    "### ADD, MINUS, MULTIPLY, DIVIDE numpy arrays"
   ]
  },
  {
   "cell_type": "code",
   "execution_count": 17,
   "metadata": {},
   "outputs": [
    {
     "data": {
      "text/plain": [
       "array([19, 25, 37, 49, 57])"
      ]
     },
     "execution_count": 17,
     "metadata": {},
     "output_type": "execute_result"
    }
   ],
   "source": [
    "# Adding two numpy arrays\n",
    "a1 = np.array([7, 2, 3, 4, 1])\n",
    "a2 = np.array([12, 23, 34, 45, 56])\n",
    "\n",
    "a1 + a2"
   ]
  },
  {
   "cell_type": "code",
   "execution_count": 18,
   "metadata": {},
   "outputs": [
    {
     "data": {
      "text/plain": [
       "array([37, 32, 33, 34, 31])"
      ]
     },
     "execution_count": 18,
     "metadata": {},
     "output_type": "execute_result"
    }
   ],
   "source": [
    "# Adding numpy array with a number\n",
    "a = np.array([7, 2, 3, 4, 1])\n",
    "\n",
    "a + 30"
   ]
  },
  {
   "cell_type": "code",
   "execution_count": 19,
   "metadata": {},
   "outputs": [
    {
     "data": {
      "text/plain": [
       "array([ 84,  46, 102, 180,  56])"
      ]
     },
     "execution_count": 19,
     "metadata": {},
     "output_type": "execute_result"
    }
   ],
   "source": [
    "# Multiplying two numpy arrays\n",
    "a1 = np.array([7, 2, 3, 4, 1])\n",
    "a2 = np.array([12, 23, 34, 45, 56])\n",
    "\n",
    "a1 * a2"
   ]
  },
  {
   "cell_type": "code",
   "execution_count": 20,
   "metadata": {},
   "outputs": [
    {
     "data": {
      "text/plain": [
       "array([210,  60,  90, 120,  30])"
      ]
     },
     "execution_count": 20,
     "metadata": {},
     "output_type": "execute_result"
    }
   ],
   "source": [
    "# Multiply numpy array with a number\n",
    "a = np.array([7, 2, 3, 4, 1])\n",
    "\n",
    "a * 30"
   ]
  },
  {
   "cell_type": "code",
   "execution_count": 21,
   "metadata": {},
   "outputs": [
    {
     "data": {
      "text/plain": [
       "468"
      ]
     },
     "execution_count": 21,
     "metadata": {},
     "output_type": "execute_result"
    }
   ],
   "source": [
    "# Product of two numpy arrays using @. It will multiply each element with element at the same index in the other array then add up all the values.\n",
    "a1 = np.array([7, 2, 3, 4, 1])\n",
    "a2 = np.array([12, 23, 34, 45, 56])\n",
    "\n",
    "a1 @ a2"
   ]
  },
  {
   "cell_type": "code",
   "execution_count": 22,
   "metadata": {},
   "outputs": [
    {
     "data": {
      "text/plain": [
       "array([[1, 3],\n",
       "       [2, 4]])"
      ]
     },
     "execution_count": 22,
     "metadata": {},
     "output_type": "execute_result"
    }
   ],
   "source": [
    "# Transpose a numpy array using T\n",
    "a = np.array([[1, 2], [3, 4]])\n",
    "a.T"
   ]
  },
  {
   "cell_type": "code",
   "execution_count": 23,
   "metadata": {},
   "outputs": [
    {
     "data": {
      "text/plain": [
       "array([[1, 3],\n",
       "       [2, 4]])"
      ]
     },
     "execution_count": 23,
     "metadata": {},
     "output_type": "execute_result"
    }
   ],
   "source": [
    "# Transpose a numpy array using transpose method\n",
    "a = np.array([[1, 2], [3, 4]])\n",
    "a.transpose()"
   ]
  },
  {
   "cell_type": "code",
   "execution_count": 24,
   "metadata": {},
   "outputs": [
    {
     "data": {
      "text/plain": [
       "array([1, 2, 3, 4, 7])"
      ]
     },
     "execution_count": 24,
     "metadata": {},
     "output_type": "execute_result"
    }
   ],
   "source": [
    "# Sorting a numpy array\n",
    "a = np.array([7, 2, 3, 4, 1])\n",
    "np.sort(a)"
   ]
  },
  {
   "cell_type": "code",
   "execution_count": 25,
   "metadata": {},
   "outputs": [
    {
     "data": {
      "text/plain": [
       "array([[2, 7],\n",
       "       [4, 5]])"
      ]
     },
     "execution_count": 25,
     "metadata": {},
     "output_type": "execute_result"
    }
   ],
   "source": [
    "a = np.array([[7, 2], [5, 4]])\n",
    "np.sort(a)"
   ]
  }
 ],
 "metadata": {
  "kernelspec": {
   "display_name": "Python 3",
   "language": "python",
   "name": "python3"
  },
  "language_info": {
   "codemirror_mode": {
    "name": "ipython",
    "version": 3
   },
   "file_extension": ".py",
   "mimetype": "text/x-python",
   "name": "python",
   "nbconvert_exporter": "python",
   "pygments_lexer": "ipython3",
   "version": "3.11.7"
  }
 },
 "nbformat": 4,
 "nbformat_minor": 2
}
