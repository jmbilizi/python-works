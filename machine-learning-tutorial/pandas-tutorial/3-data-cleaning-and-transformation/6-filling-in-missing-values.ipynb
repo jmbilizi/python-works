{
 "cells": [
  {
   "cell_type": "markdown",
   "metadata": {},
   "source": [
    "- Filling-In Missing Values\n",
    "\n",
    "Sometimes we have to fill in data because we don't want to drop the entire row because just few values are missing. so We can use fillna method to fill in data"
   ]
  },
  {
   "cell_type": "code",
   "execution_count": 2,
   "metadata": {},
   "outputs": [],
   "source": [
    "# Here is how to import pandas in your project\n",
    "import pandas as pd;"
   ]
  },
  {
   "cell_type": "markdown",
   "metadata": {},
   "source": [
    "1. To replace all missing values with a given value"
   ]
  },
  {
   "cell_type": "code",
   "execution_count": 3,
   "metadata": {},
   "outputs": [
    {
     "data": {
      "text/html": [
       "<div>\n",
       "<style scoped>\n",
       "    .dataframe tbody tr th:only-of-type {\n",
       "        vertical-align: middle;\n",
       "    }\n",
       "\n",
       "    .dataframe tbody tr th {\n",
       "        vertical-align: top;\n",
       "    }\n",
       "\n",
       "    .dataframe thead th {\n",
       "        text-align: right;\n",
       "    }\n",
       "</style>\n",
       "<table border=\"1\" class=\"dataframe\">\n",
       "  <thead>\n",
       "    <tr style=\"text-align: right;\">\n",
       "      <th></th>\n",
       "      <th>name</th>\n",
       "      <th>age</th>\n",
       "      <th>city</th>\n",
       "    </tr>\n",
       "  </thead>\n",
       "  <tbody>\n",
       "    <tr>\n",
       "      <th>0</th>\n",
       "      <td>Alice</td>\n",
       "      <td>25.0</td>\n",
       "      <td>Rockville</td>\n",
       "    </tr>\n",
       "    <tr>\n",
       "      <th>1</th>\n",
       "      <td>Janvier</td>\n",
       "      <td>30.0</td>\n",
       "      <td>Germantown</td>\n",
       "    </tr>\n",
       "    <tr>\n",
       "      <th>2</th>\n",
       "      <td>Naomie</td>\n",
       "      <td>11.0</td>\n",
       "      <td>Denver</td>\n",
       "    </tr>\n",
       "    <tr>\n",
       "      <th>3</th>\n",
       "      <td>Kate</td>\n",
       "      <td>25.0</td>\n",
       "      <td>Rome</td>\n",
       "    </tr>\n",
       "    <tr>\n",
       "      <th>4</th>\n",
       "      <td>Bob</td>\n",
       "      <td>40.0</td>\n",
       "      <td>0</td>\n",
       "    </tr>\n",
       "    <tr>\n",
       "      <th>5</th>\n",
       "      <td>Jeff</td>\n",
       "      <td>25.0</td>\n",
       "      <td>Harrisonburg</td>\n",
       "    </tr>\n",
       "    <tr>\n",
       "      <th>6</th>\n",
       "      <td>Jack</td>\n",
       "      <td>0.0</td>\n",
       "      <td>0</td>\n",
       "    </tr>\n",
       "  </tbody>\n",
       "</table>\n",
       "</div>"
      ],
      "text/plain": [
       "      name   age          city\n",
       "0    Alice  25.0     Rockville\n",
       "1  Janvier  30.0    Germantown\n",
       "2   Naomie  11.0        Denver\n",
       "3     Kate  25.0          Rome\n",
       "4      Bob  40.0             0\n",
       "5     Jeff  25.0  Harrisonburg\n",
       "6     Jack   0.0             0"
      ]
     },
     "execution_count": 3,
     "metadata": {},
     "output_type": "execute_result"
    }
   ],
   "source": [
    "userDataFrame11 = pd.DataFrame({'name': ['Alice', 'Janvier', 'Naomie', 'Kate', 'Bob', 'Jeff', 'Jack'], 'age': [25, 30, 11, 25, 40, 25, None], 'city': ['Rockville', 'Germantown', 'Denver', 'Rome', None, 'Harrisonburg', None]})\n",
    "userDataFrame11.fillna(0) # Every missing value will be replaced with 0"
   ]
  },
  {
   "cell_type": "markdown",
   "metadata": {},
   "source": [
    "2. To replace all the missing column values with a given value calculated using math function like min, "
   ]
  },
  {
   "cell_type": "code",
   "execution_count": 4,
   "metadata": {},
   "outputs": [
    {
     "data": {
      "text/html": [
       "<div>\n",
       "<style scoped>\n",
       "    .dataframe tbody tr th:only-of-type {\n",
       "        vertical-align: middle;\n",
       "    }\n",
       "\n",
       "    .dataframe tbody tr th {\n",
       "        vertical-align: top;\n",
       "    }\n",
       "\n",
       "    .dataframe thead th {\n",
       "        text-align: right;\n",
       "    }\n",
       "</style>\n",
       "<table border=\"1\" class=\"dataframe\">\n",
       "  <thead>\n",
       "    <tr style=\"text-align: right;\">\n",
       "      <th></th>\n",
       "      <th>name</th>\n",
       "      <th>age</th>\n",
       "      <th>city</th>\n",
       "    </tr>\n",
       "  </thead>\n",
       "  <tbody>\n",
       "    <tr>\n",
       "      <th>0</th>\n",
       "      <td>Alice</td>\n",
       "      <td>25.0</td>\n",
       "      <td>Rockville</td>\n",
       "    </tr>\n",
       "    <tr>\n",
       "      <th>1</th>\n",
       "      <td>Janvier</td>\n",
       "      <td>30.0</td>\n",
       "      <td>Germantown</td>\n",
       "    </tr>\n",
       "    <tr>\n",
       "      <th>2</th>\n",
       "      <td>Naomie</td>\n",
       "      <td>11.0</td>\n",
       "      <td>Denver</td>\n",
       "    </tr>\n",
       "    <tr>\n",
       "      <th>3</th>\n",
       "      <td>Kate</td>\n",
       "      <td>25.0</td>\n",
       "      <td>Rome</td>\n",
       "    </tr>\n",
       "    <tr>\n",
       "      <th>4</th>\n",
       "      <td>Bob</td>\n",
       "      <td>23.2</td>\n",
       "      <td>None</td>\n",
       "    </tr>\n",
       "    <tr>\n",
       "      <th>5</th>\n",
       "      <td>Jeff</td>\n",
       "      <td>25.0</td>\n",
       "      <td>Harrisonburg</td>\n",
       "    </tr>\n",
       "    <tr>\n",
       "      <th>6</th>\n",
       "      <td>Jack</td>\n",
       "      <td>23.2</td>\n",
       "      <td>None</td>\n",
       "    </tr>\n",
       "  </tbody>\n",
       "</table>\n",
       "</div>"
      ],
      "text/plain": [
       "      name   age          city\n",
       "0    Alice  25.0     Rockville\n",
       "1  Janvier  30.0    Germantown\n",
       "2   Naomie  11.0        Denver\n",
       "3     Kate  25.0          Rome\n",
       "4      Bob  23.2          None\n",
       "5     Jeff  25.0  Harrisonburg\n",
       "6     Jack  23.2          None"
      ]
     },
     "execution_count": 4,
     "metadata": {},
     "output_type": "execute_result"
    }
   ],
   "source": [
    "userDataFrame12 = pd.DataFrame({'name': ['Alice', 'Janvier', 'Naomie', 'Kate', 'Bob', 'Jeff', 'Jack'], 'age': [25, 30, 11, 25, None, 25, None], 'city': ['Rockville', 'Germantown', 'Denver', 'Rome', None, 'Harrisonburg', None]})\n",
    "meanAge = userDataFrame12['age'].mean() # mean of all age values\n",
    "userDataFrame12['age'].fillna(meanAge, inplace=True) # Replace all missing values on age column with this meanAge\n",
    "userDataFrame12"
   ]
  },
  {
   "cell_type": "markdown",
   "metadata": {},
   "source": [
    "3. To replace strings with a missing value"
   ]
  },
  {
   "cell_type": "code",
   "execution_count": 5,
   "metadata": {},
   "outputs": [
    {
     "data": {
      "text/plain": [
       "None            2\n",
       "Rockville       1\n",
       "Germantown      1\n",
       "Denver          1\n",
       "Rome            1\n",
       "Harrisonburg    1\n",
       "Name: city, dtype: int64"
      ]
     },
     "execution_count": 5,
     "metadata": {},
     "output_type": "execute_result"
    }
   ],
   "source": [
    "# To get the count of each value in a given column, use value_counts method with dropna=False as parameter so it count missing values as well\n",
    "userDataFrame13 = pd.DataFrame({'name': ['Alice', 'Janvier', 'Naomie', 'Kate', 'Bob', 'Jeff', 'Jack'], 'age': [25, 30, 11, 25, None, 25, None], 'city': ['Rockville', 'Germantown', 'Denver', 'Rome', None, 'Harrisonburg', None]})\n",
    "userDataFrame13['city'].value_counts(dropna=False)"
   ]
  },
  {
   "cell_type": "code",
   "execution_count": null,
   "metadata": {},
   "outputs": [],
   "source": [
    "# To replace every missing value in a give column with a given string value, pass value='myvalue' as parameter to the fillna method on that column. Again the inplace=True just indicate that you want apply this change to the original dataframe\n",
    "userDataFrame14 = pd.DataFrame({'name': ['Alice', 'Janvier', 'Naomie', 'Kate', 'Bob', 'Jeff', 'Jack'], 'age': [25, 30, 11, 25, None, 25, None], 'city': ['Rockville', 'Germantown', 'Denver', 'Rome', None, 'Harrisonburg', None]})\n",
    "userDataFrame14['city'].fillna(value='Paris', inplace=True)\n",
    "userDataFrame14"
   ]
  }
 ],
 "metadata": {
  "kernelspec": {
   "display_name": "Python 3",
   "language": "python",
   "name": "python3"
  },
  "language_info": {
   "codemirror_mode": {
    "name": "ipython",
    "version": 3
   },
   "file_extension": ".py",
   "mimetype": "text/x-python",
   "name": "python",
   "nbconvert_exporter": "python",
   "pygments_lexer": "ipython3",
   "version": "3.10.9"
  }
 },
 "nbformat": 4,
 "nbformat_minor": 2
}
